{
 "cells": [
  {
   "cell_type": "markdown",
   "metadata": {},
   "source": [
    "<img src=\"images/c1.jpg\">"
   ]
  },
  {
   "cell_type": "code",
   "execution_count": 25,
   "metadata": {},
   "outputs": [
    {
     "name": "stdout",
     "output_type": "stream",
     "text": [
      "True {'input': [[1, 2, 3, 4], [5, 6, 7, 8], [9, 10, 11, 12]], 'output': [1, 2, 3, 4, 8, 12, 11, 10, 9, 5, 6, 7]} [1, 2, 3, 4, 8, 12, 11, 10, 9, 5, 6, 7]\n",
      "True {'input': [[1, 2, 3], [4, 5, 6], [7, 8, 9], [10, 11, 12]], 'output': [1, 2, 3, 6, 9, 12, 11, 10, 7, 4, 5, 8]} [1, 2, 3, 6, 9, 12, 11, 10, 7, 4, 5, 8]\n"
     ]
    }
   ],
   "source": [
    "def spiralMatrix(matrix):\n",
    "    x_dir, y_dir = 1, 1\n",
    "    x_execs, y_execs = 0, 0\n",
    "    y_dim, x_dim = len(matrix), len(matrix[0])\n",
    "    items = y_dim * x_dim\n",
    "    x, y = 0, 0\n",
    "    spiral = []\n",
    "    for i in range(x_dim + y_dim):\n",
    "        try:\n",
    "            steps = x_dim - y_execs \n",
    "            for xi in range(steps): spiral.append(matrix[y][x+x_dir*xi])\n",
    "            if len(spiral)==items: return spiral\n",
    "            x += x_dir * (steps - 1)\n",
    "            x_execs += 1\n",
    "            x_dir *= -1\n",
    "            y += y_dir\n",
    "\n",
    "            steps = y_dim - x_execs\n",
    "            for yi in range(steps): spiral.append(matrix[y+y_dir*yi][x])\n",
    "            if len(spiral)==items: return spiral\n",
    "            y += y_dir * (steps - 1)\n",
    "            y_execs += 1\n",
    "            y_dir *= -1\n",
    "            x += x_dir\n",
    "        except Exception as e: print(e,spiral)\n",
    "    \n",
    "tests = [\n",
    "    {\n",
    "        \"input\": [[1,2,3,4],[5,6,7,8],[9,10,11,12]],\n",
    "        \"output\": [1,2,3,4,8,12,11,10,9,5,6,7]\n",
    "    },\n",
    "    {\n",
    "        \"input\": [[1,2,3],[4,5,6],[7,8,9],[10,11,12]],\n",
    "        \"output\": [1,2,3,6,9,12,11,10,7,4,5,8]\n",
    "    }\n",
    "]\n",
    "\n",
    "\n",
    "for test in tests:\n",
    "    res = spiralMatrix(test[\"input\"])\n",
    "    print(res == test[\"output\"],test,res)"
   ]
  },
  {
   "cell_type": "markdown",
   "metadata": {},
   "source": [
    "<img src=\"images/c2.jpg\">"
   ]
  },
  {
   "cell_type": "code",
   "execution_count": 7,
   "metadata": {},
   "outputs": [
    {
     "name": "stdout",
     "output_type": "stream",
     "text": [
      "True [(1, 5), (5, 1)] {'in': ([1, 5, 7, 1], 6), 'out': [(1, 5), (5, 1)]}\n"
     ]
    }
   ],
   "source": [
    "def pairsToSumK(input_):\n",
    "    array, k  = input_\n",
    "    unique = list(set(array))\n",
    "    n_unique = len(unique)\n",
    "    output=[]\n",
    "    for i in range(n_unique):\n",
    "        for j in range(n_unique):\n",
    "            if i!=j and unique[i]+unique[j]==k: output.append((unique[i],unique[j]))\n",
    "    return output\n",
    "\n",
    "tests = [\n",
    "    {\n",
    "        \"in\":([1,5,7,1],6),\n",
    "        \"out\":[(1,5),(5,1)]\n",
    "    }\n",
    "]\n",
    "\n",
    "for test in tests:\n",
    "    res = pairsToSumK(test['in'])\n",
    "    print(res==test['out'],res,test)"
   ]
  },
  {
   "cell_type": "markdown",
   "metadata": {},
   "source": [
    "<img src=\"images/c3.jpg\">"
   ]
  },
  {
   "cell_type": "code",
   "execution_count": 15,
   "metadata": {},
   "outputs": [
    {
     "name": "stdout",
     "output_type": "stream",
     "text": [
      "True ({'@', '^', '$', '#', '%'}, {'@', '^', '$', '#', '%'}) {'in': (['@', '%', '$', '#', '^'], ['@', '%', '$', '#', '^']), 'out': ({'@', '^', '$', '#', '%'}, {'@', '^', '$', '#', '%'})}\n"
     ]
    }
   ],
   "source": [
    "def matchNutsWithBolts(input_):\n",
    "    nuts, bolts = input_\n",
    "    nuts_aux = nuts.copy()\n",
    "    for item in nuts_aux:\n",
    "        idx_nut, idx_bolt = nuts.index(item), bolts.index(item)\n",
    "        temp = bolts[idx_nut]\n",
    "        bolts[idx_nut] = bolts[idx_bolt]\n",
    "        bolts[idx_bolt] = temp\n",
    "        del nuts_aux[nuts_aux.index(item)]\n",
    "    return (set(nuts), set(bolts))\n",
    "\n",
    "tests=[\n",
    "    {\n",
    "        \"in\": (['@','%','$','#','^'],['%','@','#','$','^']),\n",
    "        \"out\": ({'#','$','%','@','^'},{'#','$','%','@','^'})\n",
    "    }\n",
    "]\n",
    "\n",
    "for test in tests:\n",
    "    res = matchNutsWithBolts(test['in'])\n",
    "    print(res == test['out'], res, test)"
   ]
  },
  {
   "cell_type": "code",
   "execution_count": 11,
   "metadata": {},
   "outputs": [
    {
     "data": {
      "text/plain": [
       "1"
      ]
     },
     "execution_count": 11,
     "metadata": {},
     "output_type": "execute_result"
    }
   ],
   "source": [
    "[0,1,2,3].index(1)"
   ]
  },
  {
   "cell_type": "code",
   "execution_count": null,
   "metadata": {},
   "outputs": [],
   "source": []
  }
 ],
 "metadata": {
  "kernelspec": {
   "display_name": "Python 3",
   "language": "python",
   "name": "python3"
  },
  "language_info": {
   "codemirror_mode": {
    "name": "ipython",
    "version": 3
   },
   "file_extension": ".py",
   "mimetype": "text/x-python",
   "name": "python",
   "nbconvert_exporter": "python",
   "pygments_lexer": "ipython3",
   "version": "3.6.7"
  }
 },
 "nbformat": 4,
 "nbformat_minor": 2
}
