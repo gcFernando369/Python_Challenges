{
 "cells": [
  {
   "cell_type": "markdown",
   "metadata": {},
   "source": [
    "<img src=\"images/c1.jpg\">"
   ]
  },
  {
   "cell_type": "code",
   "execution_count": 25,
   "metadata": {},
   "outputs": [
    {
     "name": "stdout",
     "output_type": "stream",
     "text": [
      "True {'input': [[1, 2, 3, 4], [5, 6, 7, 8], [9, 10, 11, 12]], 'output': [1, 2, 3, 4, 8, 12, 11, 10, 9, 5, 6, 7]} [1, 2, 3, 4, 8, 12, 11, 10, 9, 5, 6, 7]\n",
      "True {'input': [[1, 2, 3], [4, 5, 6], [7, 8, 9], [10, 11, 12]], 'output': [1, 2, 3, 6, 9, 12, 11, 10, 7, 4, 5, 8]} [1, 2, 3, 6, 9, 12, 11, 10, 7, 4, 5, 8]\n"
     ]
    }
   ],
   "source": [
    "def spiralMatrix(matrix):\n",
    "    x_dir, y_dir = 1, 1\n",
    "    x_execs, y_execs = 0, 0\n",
    "    y_dim, x_dim = len(matrix), len(matrix[0])\n",
    "    items = y_dim * x_dim\n",
    "    x, y = 0, 0\n",
    "    spiral = []\n",
    "    for i in range(x_dim + y_dim):\n",
    "        try:\n",
    "            steps = x_dim - y_execs \n",
    "            for xi in range(steps): spiral.append(matrix[y][x+x_dir*xi])\n",
    "            if len(spiral)==items: return spiral\n",
    "            x += x_dir * (steps - 1)\n",
    "            x_execs += 1\n",
    "            x_dir *= -1\n",
    "            y += y_dir\n",
    "\n",
    "            steps = y_dim - x_execs\n",
    "            for yi in range(steps): spiral.append(matrix[y+y_dir*yi][x])\n",
    "            if len(spiral)==items: return spiral\n",
    "            y += y_dir * (steps - 1)\n",
    "            y_execs += 1\n",
    "            y_dir *= -1\n",
    "            x += x_dir\n",
    "        except Exception as e: print(e,spiral)\n",
    "    \n",
    "tests = [\n",
    "    {\n",
    "        \"input\": [[1,2,3,4],[5,6,7,8],[9,10,11,12]],\n",
    "        \"output\": [1,2,3,4,8,12,11,10,9,5,6,7]\n",
    "    },\n",
    "    {\n",
    "        \"input\": [[1,2,3],[4,5,6],[7,8,9],[10,11,12]],\n",
    "        \"output\": [1,2,3,6,9,12,11,10,7,4,5,8]\n",
    "    }\n",
    "]\n",
    "\n",
    "\n",
    "for test in tests:\n",
    "    res = spiralMatrix(test[\"input\"])\n",
    "    print(res == test[\"output\"],test,res)"
   ]
  },
  {
   "cell_type": "code",
   "execution_count": null,
   "metadata": {},
   "outputs": [],
   "source": [
    "res"
   ]
  }
 ],
 "metadata": {
  "kernelspec": {
   "display_name": "Python 3",
   "language": "python",
   "name": "python3"
  },
  "language_info": {
   "codemirror_mode": {
    "name": "ipython",
    "version": 3
   },
   "file_extension": ".py",
   "mimetype": "text/x-python",
   "name": "python",
   "nbconvert_exporter": "python",
   "pygments_lexer": "ipython3",
   "version": "3.6.7"
  }
 },
 "nbformat": 4,
 "nbformat_minor": 2
}
